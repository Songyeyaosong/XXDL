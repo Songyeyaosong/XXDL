{
 "cells": [
  {
   "cell_type": "code",
   "execution_count": 1,
   "outputs": [],
   "source": [
    "import torch\n",
    "from torch import nn"
   ],
   "metadata": {
    "collapsed": false,
    "pycharm": {
     "name": "#%%\n"
    }
   }
  },
  {
   "cell_type": "markdown",
   "source": [
    "参数绑定"
   ],
   "metadata": {
    "collapsed": false,
    "pycharm": {
     "name": "#%% md\n"
    }
   }
  },
  {
   "cell_type": "code",
   "execution_count": 2,
   "outputs": [],
   "source": [
    "shared = nn.Linear(8,8)\n",
    "\n",
    "net = nn.Sequential(nn.Linear(4,8), nn.ReLU(), shared, nn.ReLU(), shared, nn.ReLU(), nn.Linear(8,4))\n",
    "#这样的话第二和第三个隐藏层就可以做到参数绑定"
   ],
   "metadata": {
    "collapsed": false,
    "pycharm": {
     "name": "#%%\n"
    }
   }
  },
  {
   "cell_type": "markdown",
   "source": [
    "自定义带参数的层"
   ],
   "metadata": {
    "collapsed": false,
    "pycharm": {
     "name": "#%% md\n"
    }
   }
  },
  {
   "cell_type": "code",
   "execution_count": 3,
   "outputs": [],
   "source": [
    "class MyLinear(nn.Module):\n",
    "\n",
    "#我的理解self就是创建实例时里面的参数\n",
    "    def __init__(self, input, output): #init里的参数就是创建实例时输入的参数\n",
    "        super().__init__()\n",
    "        self.weight = nn.Parameter(torch.rand(input, output))\n",
    "        self.bias = nn.Parameter(torch.zeros(output))\n",
    "\n",
    "    def forward(self, x):\n",
    "        linear = torch.matmul(x, self.weight.data) + self.bias.data #数值计算要加data\n",
    "        return nn.functional.relu(linear)\n",
    "#nn.Relu()是一个module,也就是层  nn.functional.relu()才是用于数值计算的函数"
   ],
   "metadata": {
    "collapsed": false,
    "pycharm": {
     "name": "#%%\n"
    }
   }
  },
  {
   "cell_type": "code",
   "execution_count": 4,
   "outputs": [
    {
     "data": {
      "text/plain": "Sequential(\n  (0): Linear(in_features=4, out_features=8, bias=True)\n  (1): ReLU()\n  (2): Linear(in_features=8, out_features=8, bias=True)\n  (3): ReLU()\n  (4): Linear(in_features=8, out_features=8, bias=True)\n  (5): ReLU()\n  (6): Linear(in_features=8, out_features=4, bias=True)\n)"
     },
     "execution_count": 4,
     "metadata": {},
     "output_type": "execute_result"
    }
   ],
   "source": [
    "def init_normal(m):\n",
    "    if type(m) == nn.Linear:\n",
    "        nn.init.normal_(m.weight, mean = 0, std = 1)\n",
    "        nn.init.zeros_(m.bias)\n",
    "#torch里如果加了_的函数,那就表示参数不是传入的值,而表示要被替换的值\n",
    "\n",
    "net.apply(init_normal)\n",
    "#apply表示对这个module执行这个函数,如果这个module包含了module,那么还会对里面的所有module也执行,你也可以手动修改"
   ],
   "metadata": {
    "collapsed": false,
    "pycharm": {
     "name": "#%%\n"
    }
   }
  },
  {
   "cell_type": "code",
   "execution_count": 5,
   "outputs": [],
   "source": [
    "def init_42(m):\n",
    "    if type(m) == nn.Linear:\n",
    "        nn.init.constant_(m.weight, 42)\n",
    "        nn.init.zeros_(m.bias)\n",
    "\n",
    "#42是宇宙的答案！"
   ],
   "metadata": {
    "collapsed": false,
    "pycharm": {
     "name": "#%%\n"
    }
   }
  },
  {
   "cell_type": "markdown",
   "source": [
    "保存参数,torch可以存储任何tensor的数据"
   ],
   "metadata": {
    "collapsed": false,
    "pycharm": {
     "name": "#%% md\n"
    }
   }
  },
  {
   "cell_type": "code",
   "execution_count": 6,
   "outputs": [
    {
     "data": {
      "text/plain": "(tensor([[0.8642, 0.7480],\n         [0.4792, 0.8119]]),\n tensor([[0.8642, 0.7480],\n         [0.4792, 0.8119]]))"
     },
     "execution_count": 6,
     "metadata": {},
     "output_type": "execute_result"
    }
   ],
   "source": [
    "x1 = torch.rand(2,2)\n",
    "torch.save(x1, \"./save/x-file\")\n",
    "y1 = torch.load(\"./save/x-file\")\n",
    "x1, y1"
   ],
   "metadata": {
    "collapsed": false,
    "pycharm": {
     "name": "#%%\n"
    }
   }
  },
  {
   "cell_type": "code",
   "execution_count": 7,
   "outputs": [
    {
     "data": {
      "text/plain": "(tensor([[0.4036, 0.6333],\n         [0.6070, 0.6539]]),\n tensor([[0.8855, 0.1170],\n         [0.8896, 0.2891]]),\n tensor([[0.4036, 0.6333],\n         [0.6070, 0.6539]]),\n tensor([[0.8855, 0.1170],\n         [0.8896, 0.2891]]))"
     },
     "execution_count": 7,
     "metadata": {},
     "output_type": "execute_result"
    }
   ],
   "source": [
    "x2 = torch.rand(2,2)\n",
    "y2 = torch.rand(2,2)\n",
    "torch.save([x2, y2], \"./save/xy-file\")\n",
    "x3, y3 = torch.load(\"./save/xy-file\")\n",
    "x2, y2, x3, y3"
   ],
   "metadata": {
    "collapsed": false,
    "pycharm": {
     "name": "#%%\n"
    }
   }
  },
  {
   "cell_type": "code",
   "execution_count": 8,
   "outputs": [
    {
     "data": {
      "text/plain": "({'x': tensor([[0.8538, 0.0476],\n          [0.3852, 0.0888]]),\n  'y': tensor([[0.8780, 0.8141],\n          [0.7528, 0.0242]])},\n {'x': tensor([[0.8538, 0.0476],\n          [0.3852, 0.0888]]),\n  'y': tensor([[0.8780, 0.8141],\n          [0.7528, 0.0242]])})"
     },
     "execution_count": 8,
     "metadata": {},
     "output_type": "execute_result"
    }
   ],
   "source": [
    "x4 = torch.rand(2,2)\n",
    "y4 = torch.rand(2,2)\n",
    "mydict = {'x':x4, 'y':y4}\n",
    "torch.save(mydict, \"./save/mydict\")\n",
    "mydict2 = torch.load(\"./save/mydict\")\n",
    "mydict, mydict2"
   ],
   "metadata": {
    "collapsed": false,
    "pycharm": {
     "name": "#%%\n"
    }
   }
  },
  {
   "cell_type": "code",
   "execution_count": 13,
   "outputs": [],
   "source": [
    "torch.save(net.state_dict(),\"./save/net_params\") #net.state_dict()就是整个网络的所有权重,torch只能存权重,不像tf那样也可以存网络的定义"
   ],
   "metadata": {
    "collapsed": false,
    "pycharm": {
     "name": "#%%\n"
    }
   }
  },
  {
   "cell_type": "code",
   "execution_count": 16,
   "outputs": [
    {
     "data": {
      "text/plain": "(<All keys matched successfully>,\n Sequential(\n   (0): Linear(in_features=4, out_features=8, bias=True)\n   (1): ReLU()\n   (2): Linear(in_features=8, out_features=8, bias=True)\n   (3): ReLU()\n   (4): Linear(in_features=8, out_features=8, bias=True)\n   (5): ReLU()\n   (6): Linear(in_features=8, out_features=4, bias=True)\n ))"
     },
     "execution_count": 16,
     "metadata": {},
     "output_type": "execute_result"
    }
   ],
   "source": [
    "#网络读取参数有专门的api : load_state_dict()\n",
    "net.load_state_dict(torch.load(\"./save/net_params\")), net.eval()"
   ],
   "metadata": {
    "collapsed": false,
    "pycharm": {
     "name": "#%%\n"
    }
   }
  },
  {
   "cell_type": "code",
   "execution_count": null,
   "outputs": [],
   "source": [],
   "metadata": {
    "collapsed": false,
    "pycharm": {
     "name": "#%%\n"
    }
   }
  }
 ],
 "metadata": {
  "kernelspec": {
   "display_name": "Python 3",
   "language": "python",
   "name": "python3"
  },
  "language_info": {
   "codemirror_mode": {
    "name": "ipython",
    "version": 2
   },
   "file_extension": ".py",
   "mimetype": "text/x-python",
   "name": "python",
   "nbconvert_exporter": "python",
   "pygments_lexer": "ipython2",
   "version": "2.7.6"
  }
 },
 "nbformat": 4,
 "nbformat_minor": 0
}