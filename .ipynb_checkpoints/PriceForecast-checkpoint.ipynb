{
 "cells": [
  {
   "cell_type": "code",
   "execution_count": 1,
   "metadata": {
    "pycharm": {
     "name": "#%%\n"
    }
   },
   "outputs": [],
   "source": [
    "import torch\n",
    "from torch import nn\n",
    "from d2l import torch as d2l\n",
    "import pandas as pd\n",
    "import matplotlib.pyplot as plt"
   ]
  },
  {
   "cell_type": "code",
   "execution_count": 2,
   "metadata": {
    "pycharm": {
     "name": "#%%\n"
    }
   },
   "outputs": [],
   "source": [
    "train_data = pd.read_csv('house-prices-advanced-regression-techniques/train.csv')\n",
    "test_x = pd.read_csv('house-prices-advanced-regression-techniques/test.csv')\n",
    "test_y = pd.read_csv('house-prices-advanced-regression-techniques/sample_submission.csv')"
   ]
  },
  {
   "cell_type": "code",
   "execution_count": 3,
   "metadata": {
    "pycharm": {
     "name": "#%%\n"
    }
   },
   "outputs": [],
   "source": [
    "train_x = train_data.iloc[:, 1:79]\n",
    "train_y = train_data.iloc[:, 80]\n",
    "test_x = train_data.iloc[:, 1:79]\n",
    "test_y = train_data.iloc[:, 1]"
   ]
  },
  {
   "cell_type": "markdown",
   "metadata": {
    "pycharm": {
     "name": "#%% md\n"
    }
   },
   "source": [
    "数据预处理"
   ]
  },
  {
   "cell_type": "code",
   "execution_count": 4,
   "metadata": {
    "pycharm": {
     "name": "#%%\n"
    }
   },
   "outputs": [],
   "source": [
    "#标准化\n",
    "train_x_numeric_features = train_x.dtypes[train_x.dtypes != 'object'].index #找出数据中哪些特征是数据类型,index也就是特征的标签\n",
    "train_x[train_x_numeric_features] = train_x[train_x_numeric_features].apply(\n",
    "    lambda x : (x - x.mean()) / x.std() #标准化处理\n",
    ")\n",
    "train_x[train_x_numeric_features] = train_x[train_x_numeric_features].fillna(0)\n",
    "\n",
    "validate_x_numeric_features = test_x.dtypes[test_x.dtypes != 'object'].index\n",
    "test_x[validate_x_numeric_features] = test_x[validate_x_numeric_features].apply(\n",
    "    lambda x : (x - x.mean()) / x.std()\n",
    ")\n",
    "test_x[validate_x_numeric_features] = test_x[validate_x_numeric_features].fillna(0)"
   ]
  },
  {
   "cell_type": "code",
   "execution_count": 5,
   "metadata": {
    "pycharm": {
     "name": "#%%\n"
    }
   },
   "outputs": [],
   "source": [
    "#将字符串类型变成独热编码\n",
    "train_x = pd.get_dummies(train_x, dummy_na = True) #pd.get_dummies可以将字符串类型改造成独热编码\n",
    "test_x = pd.get_dummies(test_x, dummy_na = True)"
   ]
  },
  {
   "cell_type": "code",
   "execution_count": 6,
   "metadata": {
    "pycharm": {
     "name": "#%%\n"
    }
   },
   "outputs": [],
   "source": [
    "#将其转换为tensor类型\n",
    "train_x = torch.tensor(train_x.values, dtype = torch.float32)\n",
    "train_y = torch.tensor(train_y.values, dtype = torch.float32)\n",
    "\n",
    "test_x = torch.tensor(test_x.values, dtype = torch.float32)\n",
    "test_y = torch.tensor(test_y.values, dtype = torch.float32)"
   ]
  },
  {
   "cell_type": "markdown",
   "metadata": {
    "pycharm": {
     "name": "#%% md\n"
    }
   },
   "source": [
    "定义网络"
   ]
  },
  {
   "cell_type": "code",
   "execution_count": 7,
   "metadata": {
    "pycharm": {
     "name": "#%%\n"
    }
   },
   "outputs": [],
   "source": [
    "#丢弃法\n",
    "def dropout(x, p):\n",
    "\n",
    "    assert 0 <= p <= 1\n",
    "\n",
    "    if p == 1:\n",
    "        return torch.zeros_like(x)\n",
    "    if p == 0:\n",
    "        return x\n",
    "\n",
    "    mask = (torch.randn(x.shape) > p).float()\n",
    "    return mask * x / (1.0 - p)"
   ]
  },
  {
   "cell_type": "code",
   "execution_count": 8,
   "metadata": {
    "pycharm": {
     "name": "#%%\n"
    }
   },
   "outputs": [],
   "source": [
    "# L2范数惩罚\n",
    "def l2_penalty(w, lmd):\n",
    "    return lmd * (w.pow(2)).sum() / 2"
   ]
  },
  {
   "cell_type": "code",
   "execution_count": 9,
   "metadata": {
    "pycharm": {
     "name": "#%%\n"
    }
   },
   "outputs": [],
   "source": [
    "class PriceForecast(nn.Module):\n",
    "\n",
    "    def __init__(self, num_inputs, num_outputs, num_hidden1, num_hidden2,is_train = True, p1 = 0.0, p2 = 0.0):\n",
    "        super(PriceForecast, self).__init__()\n",
    "        self.num_inputs = num_inputs\n",
    "        self.num_outputs = num_outputs\n",
    "        self.num_hidden1 = num_hidden1\n",
    "        self.num_hidden2 = num_hidden2\n",
    "        self.is_train = is_train\n",
    "        self.p1 = p1\n",
    "        self.p2 = p2\n",
    "        self.lin1 = nn.Linear(self.num_inputs, self.num_hidden1)\n",
    "        self.lin2 = nn.Linear(self.num_hidden1, self.num_hidden2)\n",
    "        self.lin3 = nn.Linear(self.num_hidden2, self.num_outputs)\n",
    "        self.sigmoid = nn.Sigmoid()\n",
    "\n",
    "    def forward(self, x):\n",
    "        # 第一层\n",
    "        z1 = self.lin1(x.reshape(-1, self.num_inputs))\n",
    "        a1 = self.sigmoid(z1)\n",
    "\n",
    "        if self.is_train:\n",
    "            a1 = dropout(a1, self.p1)\n",
    "\n",
    "        # 第二层\n",
    "        z2 = self.lin2(a1)\n",
    "        a2 = self.sigmoid(z2)\n",
    "\n",
    "        if self.is_train:\n",
    "            a2 = dropout(a2, self.p2)\n",
    "\n",
    "        # 输出层\n",
    "        out = self.lin3(a2)\n",
    "\n",
    "        return out\n",
    "\n",
    "def init_weight(m):\n",
    "    if type(m) == nn.Module:\n",
    "        nn.init.normal_(m.weight, 0, 1)\n",
    "        nn.init.zeros_(m.bias)"
   ]
  },
  {
   "cell_type": "markdown",
   "metadata": {
    "pycharm": {
     "name": "#%% md\n"
    }
   },
   "source": [
    "参数设置"
   ]
  },
  {
   "cell_type": "code",
   "execution_count": 10,
   "metadata": {
    "pycharm": {
     "name": "#%%\n"
    }
   },
   "outputs": [],
   "source": [
    "loss = loss = nn.MSELoss()\n",
    "\n",
    "def log_rmse(y_hat, y):\n",
    "    clipped_preds = torch.clamp(y_hat, 1, float('inf'))\n",
    "    rmse = torch.sqrt(loss(torch.log(clipped_preds), torch.log(y)))\n",
    "    return rmse"
   ]
  },
  {
   "cell_type": "code",
   "execution_count": 11,
   "metadata": {
    "pycharm": {
     "name": "#%%\n"
    }
   },
   "outputs": [],
   "source": [
    "def get_net():\n",
    "    return PriceForecast(num_inputs, num_outputs, num_hidden1, num_hidden2)"
   ]
  },
  {
   "cell_type": "code",
   "execution_count": 12,
   "metadata": {
    "pycharm": {
     "name": "#%%\n"
    }
   },
   "outputs": [],
   "source": [
    "num_inputs, num_outputs = train_x.shape[1], 1\n",
    "lr, batch_size, weight_decay, num_hidden1, num_hidden2 = 0.3, 256, 0.01, 256, 128 #超参数\n",
    "\n",
    "net = get_net()\n",
    "\n",
    "updater = torch.optim.Adam(net.parameters(), lr = lr, weight_decay = weight_decay)\n",
    "\n",
    "# 训练之前将数据和网络移动到gpu上\n",
    "train_x = train_x.to(torch.device('cuda'))\n",
    "train_y = train_y.to(torch.device('cuda'))\n",
    "test_x = test_x.to(torch.device('cuda'))\n",
    "test_y = test_y.to(torch.device('cuda'))\n",
    "net.to(torch.device('cuda'))\n",
    "train_iter = d2l.load_array((train_x, train_y), batch_size = batch_size) #d2l写了个数组类型的dataloader\n",
    "test_iter = d2l.load_array((test_x, test_y), batch_size = batch_size, is_train = False)"
   ]
  },
  {
   "cell_type": "markdown",
   "metadata": {
    "pycharm": {
     "name": "#%% md\n"
    }
   },
   "source": [
    "K折交叉验证"
   ]
  },
  {
   "cell_type": "code",
   "execution_count": 13,
   "metadata": {
    "pycharm": {
     "name": "#%%\n"
    }
   },
   "outputs": [],
   "source": [
    "#获取每折的训练集和数据集\n",
    "def get_k_fold_data(k, i, train_x, train_y):\n",
    "    # k为k折 i表示当前的验证集选第几份\n",
    "\n",
    "    assert k > 1 # k为1那就没有意义了\n",
    "\n",
    "    fold_size = train_x.shape[0] // k #一份的大小\n",
    "    #初始化真正的训练集和验证集,设置为None,cross的意思是这是交叉验证中的数据集和验证集\n",
    "    cross_train_x, cross_train_y = None, None\n",
    "    cross_validate_x, cross_validate_y = None, None\n",
    "\n",
    "\n",
    "    # 分出训练集和验证集,j为份数的指针\n",
    "    for j in range(k):\n",
    "        idx = slice(j * fold_size, (j + 1) * fold_size) #第j份数据集的下标\n",
    "        x_part, y_part = train_x[idx], train_y[idx] #第j份数据集\n",
    "\n",
    "        if j == i: #说明现在这份是验证集\n",
    "            cross_validate_x, cross_validate_y = x_part, y_part\n",
    "        elif cross_train_x is None: #如果i不等于j,就说明这份应当作为训练集,如果当前还没有测试集,那就把true_train设为当前这份part\n",
    "            cross_train_x, cross_train_y = x_part, y_part\n",
    "        else: #已经有几份part了,把当前这份part加进去\n",
    "            cross_train_x = torch.cat([cross_train_x, x_part], dim = 0)\n",
    "            cross_train_y = torch.cat([cross_train_y, y_part], dim = 0)\n",
    "\n",
    "    return cross_train_x, cross_train_y, cross_validate_x, cross_validate_y"
   ]
  },
  {
   "cell_type": "code",
   "execution_count": 14,
   "metadata": {
    "pycharm": {
     "name": "#%%\n"
    }
   },
   "outputs": [],
   "source": [
    "#交叉验证\n",
    "\n",
    "def k_fold(k, train_x, train_y, epochs):\n",
    "\n",
    "    cross_train_l_sum, cross_validate_l_sum = 0.0, 0.0\n",
    "\n",
    "    for i in range(k):\n",
    "\n",
    "        cross_train_x, cross_train_y, cross_validate_x, cross_validate_y = get_k_fold_data(k, i, train_x, train_y)\n",
    "        cross_train_x = cross_train_x.to(torch.device('cuda'))\n",
    "        cross_train_y = cross_train_y.to(torch.device('cuda'))\n",
    "        cross_validate_x = cross_validate_x.to(torch.device('cuda'))\n",
    "        cross_validate_y = cross_validate_y.to(torch.device('cuda'))\n",
    "\n",
    "        cross_train_iter = d2l.load_array((cross_train_x, cross_train_y), batch_size = batch_size)\n",
    "        cross_validate_iter = d2l.load_array((cross_validate_x, cross_validate_y), batch_size = batch_size, is_train = False)\n",
    "\n",
    "        cross_train_l_sum += train(epochs, cross_train_iter)\n",
    "        cross_validate_l_sum += test(cross_validate_iter)\n",
    "\n",
    "    return cross_train_l_sum / k, cross_validate_l_sum / k"
   ]
  },
  {
   "cell_type": "markdown",
   "metadata": {
    "pycharm": {
     "name": "#%% md\n"
    }
   },
   "source": [
    "训练和测试"
   ]
  },
  {
   "cell_type": "code",
   "execution_count": 15,
   "metadata": {
    "pycharm": {
     "name": "#%%\n"
    }
   },
   "outputs": [],
   "source": [
    "epochs = 1000\n",
    "\n",
    "def train(epochs, iter):\n",
    "\n",
    "    net.apply(init_weight)\n",
    "\n",
    "    loss_list = []\n",
    "    epochs_list = []\n",
    "    \n",
    "    for epoch in range(epochs):\n",
    "        metric = d2l.Accumulator(2)\n",
    "\n",
    "        for x, y in iter:\n",
    "\n",
    "            updater.zero_grad()\n",
    "            y_hat = net(x)\n",
    "            l = log_rmse(y_hat, y.reshape(y_hat.shape))\n",
    "            l.backward()\n",
    "            updater.step()\n",
    "\n",
    "            metric.add(l, l.numel())\n",
    "\n",
    "        loss_list.append(metric[0] / metric[1])\n",
    "        epochs_list.append(epoch + 1)\n",
    "\n",
    "    plt.plot(epochs_list, loss_list, label = 'loss')\n",
    "    plt.legend()\n",
    "    return metric[0] / metric[1]\n",
    "\n",
    "def test(iter):\n",
    "\n",
    "    metric = d2l.Accumulator(2)\n",
    "\n",
    "    for x, y in iter:\n",
    "\n",
    "        with torch.no_grad():\n",
    "            y_hat = net(x)\n",
    "            l = log_rmse(y_hat, y.reshape(y_hat.shape))\n",
    "            metric.add(l.sum(), l.numel())\n",
    "\n",
    "    return metric[0] / metric[1]"
   ]
  },
  {
   "cell_type": "code",
   "execution_count": 16,
   "metadata": {
    "pycharm": {
     "name": "#%%\n"
    }
   },
   "outputs": [],
   "source": [
    "# k_fold(2, train_x, train_y, epochs)"
   ]
  },
  {
   "cell_type": "code",
   "execution_count": 17,
   "metadata": {
    "pycharm": {
     "name": "#%%\n"
    }
   },
   "outputs": [
    {
     "data": {
      "text/plain": [
       "7.392569065093994"
      ]
     },
     "execution_count": 17,
     "metadata": {},
     "output_type": "execute_result"
    },
    {
     "data": {
      "image/png": "[encoded data removed]",
      "text/plain": [
       "<Figure size 432x288 with 1 Axes>"
      ]
     },
     "metadata": {
      "needs_background": "light"
     },
     "output_type": "display_data"
    }
   ],
   "source": [
    "train(epochs, train_iter)"
   ]
  }
 ],
 "metadata": {
  "kernelspec": {
   "display_name": "Python 3 (ipykernel)",
   "language": "python",
   "name": "python3"
  },
  "language_info": {
   "codemirror_mode": {
    "name": "ipython",
    "version": 3
   },
   "file_extension": ".py",
   "mimetype": "text/x-python",
   "name": "python",
   "nbconvert_exporter": "python",
   "pygments_lexer": "ipython3",
   "version": "3.8.13"
  }
 },
 "nbformat": 4,
 "nbformat_minor": 1
}
