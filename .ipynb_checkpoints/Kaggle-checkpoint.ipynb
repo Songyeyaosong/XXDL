{
 "cells": [
  {
   "cell_type": "code",
   "execution_count": 1,
   "metadata": {
    "pycharm": {
     "name": "#%%\n"
    }
   },
   "outputs": [],
   "source": [
    "import torch\n",
    "from torch import nn\n",
    "from d2l import torch as d2l\n",
    "import pandas as pd"
   ]
  },
  {
   "cell_type": "markdown",
   "metadata": {
    "pycharm": {
     "name": "#%% md\n"
    }
   },
   "source": [
    "数据预处理"
   ]
  },
  {
   "cell_type": "code",
   "execution_count": 2,
   "metadata": {
    "pycharm": {
     "name": "#%%\n"
    }
   },
   "outputs": [],
   "source": [
    "train_data = pd.read_csv('california-house-prices/train.csv')\n",
    "test_x = pd.read_csv('california-house-prices/test.csv')\n",
    "test_y = pd.read_csv('california-house-prices/sample_submission.csv')\n",
    "\n",
    "train_x = train_data.iloc[:, 3:40]\n",
    "train_x_numeric_features = train_x.dtypes[train_x.dtypes != 'object'].index\n",
    "train_x = train_x[train_x_numeric_features]\n",
    "train_x = train_x.apply(\n",
    "    lambda x : (x - x.mean()) / x.std()\n",
    ")\n",
    "train_x = train_x.fillna(0)\n",
    "train_y = train_data.iloc[:, 2]\n",
    "\n",
    "test_x_numeric_features = test_x.dtypes[test_x.dtypes != 'object'].index\n",
    "test_x = test_x[test_x_numeric_features]\n",
    "test_x = test_x.apply(\n",
    "    lambda x : (x - x.mean()) / x.std()\n",
    ")\n",
    "test_x = train_x.fillna(0)\n",
    "test_y = test_y.iloc[:, 1]\n",
    "\n",
    "train_x = torch.tensor(train_x.values, dtype = torch.float32)\n",
    "train_y = torch.tensor(train_y.values, dtype = torch.float32)\n",
    "test_x = torch.tensor(test_x.values, dtype = torch.float32)\n",
    "test_y = torch.tensor(test_y.values, dtype = torch.float32)"
   ]
  },
  {
   "cell_type": "code",
   "execution_count": 3,
   "metadata": {
    "pycharm": {
     "name": "#%%\n"
    }
   },
   "outputs": [],
   "source": [
    "loss = nn.MSELoss()\n",
    "num_inputs, num_outputs = train_x.shape[1], 1\n",
    "\n",
    "def log_rmse(y_hat, y):\n",
    "    clipped_preds = torch.clamp(y_hat, 1, float('inf'))\n",
    "    rmse = torch.sqrt(loss(torch.log(clipped_preds), torch.log(y)))\n",
    "    return rmse\n",
    "\n",
    "def get_net():\n",
    "    return nn.Sequential(nn.Linear(num_inputs, num_outputs))\n",
    "\n",
    "def init_weights(m):\n",
    "    if type(m) == nn.Module:\n",
    "        nn.init.normal_(m.weight, mean = 0, std = 1)\n",
    "        nn.init.zeros_(m.bias)\n",
    "\n",
    "net = get_net()\n",
    "net = net.to(torch.device('cuda'))"
   ]
  },
  {
   "cell_type": "markdown",
   "metadata": {
    "pycharm": {
     "name": "#%% md\n"
    }
   },
   "source": [
    "交叉验证"
   ]
  },
  {
   "cell_type": "code",
   "execution_count": 4,
   "metadata": {
    "pycharm": {
     "name": "#%%\n"
    }
   },
   "outputs": [],
   "source": [
    "def get_k_fold_data(k, i, train_x, train_y):\n",
    "\n",
    "    assert k > 1\n",
    "\n",
    "    fold_size = train_x.shape[0] // k\n",
    "\n",
    "    cross_train_x, cross_train_y = None, None\n",
    "    cross_validate_x, cross_validate_y = None, None\n",
    "\n",
    "    for j in range(k):\n",
    "\n",
    "        idx = slice(j * fold_size, (j + 1) * fold_size)\n",
    "        x_part, y_part = train_x[idx], train_y[idx]\n",
    "\n",
    "        if j == i:\n",
    "            cross_validate_x, cross_validate_y = x_part, y_part\n",
    "        elif cross_train_x is None:\n",
    "            cross_train_x, cross_train_y = x_part, y_part\n",
    "        else:\n",
    "            cross_train_x = torch.cat([cross_train_x, x_part], dim = 0)\n",
    "            cross_train_y = torch.cat([cross_train_y, y_part], dim = 0)\n",
    "\n",
    "    return cross_train_x, cross_train_y, cross_validate_x, cross_validate_y"
   ]
  },
  {
   "cell_type": "code",
   "execution_count": 5,
   "metadata": {
    "pycharm": {
     "name": "#%%\n"
    }
   },
   "outputs": [],
   "source": [
    "def train(epochs, train_iter, lr, weight_decay):\n",
    "\n",
    "    net.apply(init_weights)\n",
    "    updater = torch.optim.Adam(net.parameters(), lr = lr, weight_decay = weight_decay)\n",
    "\n",
    "    for epoch in range(epochs):\n",
    "\n",
    "        metric = d2l.Accumulator(2)\n",
    "\n",
    "        for x, y in train_iter:\n",
    "\n",
    "            x = x.to(torch.device('cuda'))\n",
    "            y = y.to(torch.device('cuda'))\n",
    "\n",
    "            updater.zero_grad()\n",
    "            y_hat = net(x)\n",
    "            l = log_rmse(y_hat, y.reshape(y_hat.shape))\n",
    "            l.sum().backward()\n",
    "            updater.step()\n",
    "\n",
    "            metric.add(l.sum(), l.numel())\n",
    "\n",
    "        current_loss = metric[0] / metric[1]\n",
    "\n",
    "    return current_loss\n",
    "\n",
    "def test(test_iter):\n",
    "\n",
    "    metric = d2l.Accumulator(2)\n",
    "\n",
    "    for x, y in test_iter:\n",
    "        with torch.no_grad():\n",
    "\n",
    "            x = x.to(torch.device('cuda'))\n",
    "            y = y.to(torch.device('cuda'))\n",
    "\n",
    "            y_hat = net(x)\n",
    "            l = log_rmse(y_hat, y.reshape(y_hat.shape))\n",
    "\n",
    "            metric.add(l.sum(), l.numel())\n",
    "\n",
    "    return metric[0] / metric[1]"
   ]
  },
  {
   "cell_type": "code",
   "execution_count": 6,
   "metadata": {
    "pycharm": {
     "name": "#%%\n"
    }
   },
   "outputs": [],
   "source": [
    "def k_fold(k, train_x, train_y, cross_batch_size, epochs, lr, weight_decay):\n",
    "\n",
    "    cross_train_l_sum, cross_validate_l_sum = 0.0, 0.0\n",
    "\n",
    "    for i in range(k):\n",
    "        cross_train_x, cross_train_y, cross_validate_x, cross_validate_y = get_k_fold_data(k, i, train_x, train_y)\n",
    "\n",
    "        cross_train_iter = d2l.load_array((cross_train_x, cross_train_y), batch_size = cross_batch_size)\n",
    "        cross_validate_iter = d2l.load_array((cross_validate_x, cross_validate_y), batch_size = cross_batch_size, is_train = False)\n",
    "\n",
    "        cross_train_l_sum += train(epochs, cross_train_iter, lr, weight_decay)\n",
    "        cross_validate_l_sum += test(cross_validate_iter)\n",
    "\n",
    "    return cross_train_l_sum / k, cross_validate_l_sum / k"
   ]
  },
  {
   "cell_type": "code",
   "execution_count": null,
   "metadata": {
    "pycharm": {
     "name": "#%%\n"
    }
   },
   "outputs": [],
   "source": [
    "cross_batch_size, batch_size, epochs, lr, weight_decay = 256, 256, 500, 1, 0.0\n",
    "\n",
    "k_fold(5, train_x, train_y, cross_batch_size, epochs, lr, weight_decay)"
   ]
  },
  {
   "cell_type": "code",
   "execution_count": null,
   "metadata": {},
   "outputs": [],
   "source": []
  }
 ],
 "metadata": {
  "kernelspec": {
   "display_name": "Python 3 (ipykernel)",
   "language": "python",
   "name": "python3"
  },
  "language_info": {
   "codemirror_mode": {
    "name": "ipython",
    "version": 3
   },
   "file_extension": ".py",
   "mimetype": "text/x-python",
   "name": "python",
   "nbconvert_exporter": "python",
   "pygments_lexer": "ipython3",
   "version": "3.8.13"
  }
 },
 "nbformat": 4,
 "nbformat_minor": 1
}
