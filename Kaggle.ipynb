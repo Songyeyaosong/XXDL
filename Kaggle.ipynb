{
 "cells": [
  {
   "cell_type": "code",
   "execution_count": 2,
   "metadata": {
    "pycharm": {
     "name": "#%%\n"
    }
   },
   "outputs": [],
   "source": [
    "import torch\n",
    "from torch import nn\n",
    "from d2l import torch as d2l\n",
    "import pandas as pd\n",
    "import matplotlib.pyplot as plt"
   ]
  },
  {
   "cell_type": "markdown",
   "metadata": {
    "pycharm": {
     "name": "#%% md\n"
    }
   },
   "source": [
    "数据预处理"
   ]
  },
  {
   "cell_type": "code",
   "execution_count": 3,
   "metadata": {
    "pycharm": {
     "name": "#%%\n"
    }
   },
   "outputs": [],
   "source": [
    "train_data = pd.read_csv('california-house-prices/train.csv')\n",
    "test_x = pd.read_csv('california-house-prices/test.csv')\n",
    "\n",
    "train_x = train_data.iloc[:, 3:40]\n",
    "train_x_numeric_features = train_x.dtypes[train_x.dtypes != 'object'].index\n",
    "train_x = train_x[train_x_numeric_features]\n",
    "train_x = train_x.apply(\n",
    "    lambda x : (x - x.mean()) / x.std()\n",
    ")\n",
    "train_x = train_x.fillna(0)\n",
    "train_y = train_data.iloc[:, 2]\n",
    "\n",
    "test_x = test_x.iloc[:, 1:39]\n",
    "test_x_numeric_features = test_x.dtypes[test_x.dtypes != 'object'].index\n",
    "test_x = test_x[test_x_numeric_features]\n",
    "test_x = test_x.apply(\n",
    "    lambda x : (x - x.mean()) / x.std()\n",
    ")\n",
    "test_x = train_x.fillna(0)\n",
    "\n",
    "train_x = torch.tensor(train_x.values, dtype = torch.float32)\n",
    "train_y = torch.tensor(train_y.values, dtype = torch.float32)\n",
    "test_x = torch.tensor(test_x.values, dtype = torch.float32)"
   ]
  },
  {
   "cell_type": "markdown",
   "source": [
    "定义网络"
   ],
   "metadata": {
    "collapsed": false,
    "pycharm": {
     "name": "#%% md\n"
    }
   }
  },
  {
   "cell_type": "code",
   "execution_count": 3,
   "metadata": {
    "pycharm": {
     "name": "#%%\n"
    }
   },
   "outputs": [],
   "source": [
    "loss = nn.MSELoss()\n",
    "num_inputs, num_outputs = train_x.shape[1], 1\n",
    "\n",
    "def log_rmse(y_hat, y):\n",
    "    clipped_preds = torch.clamp(y_hat, 1, float('inf'))\n",
    "    rmse = torch.sqrt(loss(torch.log(clipped_preds), torch.log(y)))\n",
    "    return rmse\n",
    "\n",
    "def get_net():\n",
    "    net = nn.Sequential(nn.Linear(num_inputs, num_outputs))\n",
    "    net.apply(init_weights)\n",
    "    return net\n",
    "\n",
    "def init_weights(m):\n",
    "    if type(m) == nn.Module:\n",
    "        nn.init.normal_(m.weight, mean = 0, std = 1)\n",
    "        nn.init.zeros_(m.bias)"
   ]
  },
  {
   "cell_type": "markdown",
   "metadata": {
    "pycharm": {
     "name": "#%% md\n"
    }
   },
   "source": [
    "交叉验证"
   ]
  },
  {
   "cell_type": "code",
   "execution_count": 4,
   "metadata": {
    "pycharm": {
     "name": "#%%\n"
    }
   },
   "outputs": [],
   "source": [
    "def get_k_fold_data(k, i, train_x, train_y):\n",
    "\n",
    "    assert k > 1\n",
    "\n",
    "    fold_size = train_x.shape[0] // k\n",
    "\n",
    "    cross_train_x, cross_train_y = None, None\n",
    "    cross_validate_x, cross_validate_y = None, None\n",
    "\n",
    "    for j in range(k):\n",
    "\n",
    "        idx = slice(j * fold_size, (j + 1) * fold_size)\n",
    "        x_part, y_part = train_x[idx], train_y[idx]\n",
    "\n",
    "        if j == i:\n",
    "            cross_validate_x, cross_validate_y = x_part, y_part\n",
    "        elif cross_train_x is None:\n",
    "            cross_train_x, cross_train_y = x_part, y_part\n",
    "        else:\n",
    "            cross_train_x = torch.cat([cross_train_x, x_part], dim = 0)\n",
    "            cross_train_y = torch.cat([cross_train_y, y_part], dim = 0)\n",
    "\n",
    "    return cross_train_x, cross_train_y, cross_validate_x, cross_validate_y"
   ]
  },
  {
   "cell_type": "code",
   "execution_count": 5,
   "metadata": {
    "pycharm": {
     "name": "#%%\n"
    }
   },
   "outputs": [],
   "source": [
    "def k_fold(k, train_x, train_y, cross_batch_size, epochs, lr, weight_decay, net):\n",
    "\n",
    "    cross_train_l_sum, cross_validate_l_sum = 0.0, 0.0\n",
    "\n",
    "    for i in range(k):\n",
    "        cross_train_x, cross_train_y, cross_validate_x, cross_validate_y = get_k_fold_data(k, i, train_x, train_y)\n",
    "\n",
    "        cross_train_iter = d2l.load_array((cross_train_x, cross_train_y), batch_size = cross_batch_size)\n",
    "        cross_validate_iter = d2l.load_array((cross_validate_x, cross_validate_y), batch_size = cross_batch_size, is_train = False)\n",
    "\n",
    "        cross_net = net\n",
    "\n",
    "        cross_train_l_sum += train(epochs, cross_train_iter, lr, weight_decay, cross_net, True)\n",
    "        cross_validate_l_sum += test(cross_validate_iter, cross_net)\n",
    "\n",
    "    return cross_train_l_sum / k, cross_validate_l_sum / k"
   ]
  },
  {
   "cell_type": "markdown",
   "source": [
    "训练和测试"
   ],
   "metadata": {
    "collapsed": false,
    "pycharm": {
     "name": "#%% md\n"
    }
   }
  },
  {
   "cell_type": "code",
   "execution_count": 6,
   "outputs": [],
   "source": [
    "def train(epochs, train_iter, lr, weight_decay, net, is_cross_train = False):\n",
    "\n",
    "    updater = torch.optim.Adam(net.parameters(), lr = lr, weight_decay = weight_decay)\n",
    "\n",
    "    loss_list = []\n",
    "    epoch_list = []\n",
    "\n",
    "    for epoch in range(epochs):\n",
    "\n",
    "        metric = d2l.Accumulator(2)\n",
    "\n",
    "        for x, y in train_iter:\n",
    "\n",
    "            x = x.to(torch.device('cuda'))\n",
    "            y = y.to(torch.device('cuda'))\n",
    "\n",
    "            updater.zero_grad()\n",
    "            y_hat = net(x)\n",
    "            l = log_rmse(y_hat, y.reshape(y_hat.shape))\n",
    "            l.sum().backward()\n",
    "            updater.step()\n",
    "\n",
    "            metric.add(l.sum(), l.numel())\n",
    "\n",
    "        epoch_loss = metric[0] / metric[1]\n",
    "        loss_list.append(epoch_loss)\n",
    "        epoch_list.append(epoch + 1)\n",
    "\n",
    "        if not is_cross_train:\n",
    "            plt.plot(epoch_list, loss_list)\n",
    "\n",
    "    return epoch_loss\n",
    "\n",
    "def test(test_iter, net):\n",
    "\n",
    "    metric = d2l.Accumulator(2)\n",
    "\n",
    "    for x, y in test_iter:\n",
    "        with torch.no_grad():\n",
    "\n",
    "            x = x.to(torch.device('cuda'))\n",
    "            y = y.to(torch.device('cuda'))\n",
    "\n",
    "            y_hat = net(x)\n",
    "            l = log_rmse(y_hat, y.reshape(y_hat.shape))\n",
    "\n",
    "            metric.add(l.sum(), l.numel())\n",
    "\n",
    "    return metric[0] / metric[1]"
   ],
   "metadata": {
    "collapsed": false,
    "pycharm": {
     "name": "#%%\n"
    }
   }
  },
  {
   "cell_type": "markdown",
   "source": [
    "调参"
   ],
   "metadata": {
    "collapsed": false,
    "pycharm": {
     "name": "#%% md\n"
    }
   }
  },
  {
   "cell_type": "code",
   "execution_count": 7,
   "metadata": {
    "pycharm": {
     "name": "#%%\n"
    }
   },
   "outputs": [],
   "source": [
    "cross_epochs = 200\n",
    "weight_decay = 0\n",
    "lr = 1300\n",
    "cross_batch_size = 128"
   ]
  },
  {
   "cell_type": "markdown",
   "source": [
    "交叉验证"
   ],
   "metadata": {
    "collapsed": false,
    "pycharm": {
     "name": "#%% md\n"
    }
   }
  },
  {
   "cell_type": "code",
   "execution_count": 8,
   "outputs": [],
   "source": [
    "net = get_net()\n",
    "net.to(torch.device('cuda'))\n",
    "\n",
    "cross_train_loss, cross_validate_loss = k_fold(5, train_x, train_y, cross_batch_size, cross_epochs, lr, weight_decay, net)\n",
    "print('lr:',lr,'batch_size:',cross_batch_size)\n",
    "print('train loss:', cross_train_loss)\n",
    "print('validate loss:', cross_validate_loss)"
   ],
   "metadata": {
    "collapsed": false,
    "pycharm": {
     "name": "#%%\n"
    }
   }
  },
  {
   "cell_type": "markdown",
   "source": [
    "普通的设验证集"
   ],
   "metadata": {
    "collapsed": false,
    "pycharm": {
     "name": "#%% md\n"
    }
   }
  },
  {
   "cell_type": "code",
   "execution_count": 9,
   "outputs": [],
   "source": [
    "fold_size = train_x.shape[0] // 2\n",
    "cross_train_x, cross_train_y = train_x[slice(0 * fold_size, 1 * fold_size)], train_y[slice(0 * fold_size, 1 * fold_size)]\n",
    "cross_validate_x, cross_validate_y = train_x[slice(1 * fold_size, 2 * fold_size)], train_y[slice(1 * fold_size, 2 * fold_size)]\n",
    "\n",
    "cross_train_iter = d2l.load_array((cross_train_x, cross_train_y), cross_batch_size)\n",
    "cross_validate_iter = d2l.load_array((cross_validate_x, cross_validate_y), cross_batch_size, False)\n",
    "\n",
    "net = get_net()\n",
    "net.to(torch.device('cuda'))\n",
    "\n",
    "print(train(cross_epochs, cross_train_iter, lr, weight_decay, net, True))\n",
    "print(test(cross_validate_iter, net))"
   ],
   "metadata": {
    "collapsed": false,
    "pycharm": {
     "name": "#%%\n"
    }
   }
  },
  {
   "cell_type": "markdown",
   "source": [
    "真正的训练模型"
   ],
   "metadata": {
    "collapsed": false,
    "pycharm": {
     "name": "#%% md\n"
    }
   }
  },
  {
   "cell_type": "code",
   "execution_count": 10,
   "outputs": [
    {
     "data": {
      "text/plain": "0.2521665247704462"
     },
     "execution_count": 10,
     "metadata": {},
     "output_type": "execute_result"
    },
    {
     "data": {
      "text/plain": "<Figure size 432x288 with 1 Axes>",
      "image/png": "[encoded data removed]"
     },
     "metadata": {
      "needs_background": "light"
     },
     "output_type": "display_data"
    }
   ],
   "source": [
    "batch_size, epochs = 128, 100\n",
    "lr = 1300\n",
    "\n",
    "train_iter = d2l.load_array((train_x, train_y), batch_size)\n",
    "\n",
    "net = get_net()\n",
    "net.to(torch.device('cuda'))\n",
    "\n",
    "train(epochs, train_iter, lr, weight_decay, net)"
   ],
   "metadata": {
    "collapsed": false,
    "pycharm": {
     "name": "#%%\n"
    }
   }
  },
  {
   "cell_type": "markdown",
   "source": [
    "保存预测结果"
   ],
   "metadata": {
    "collapsed": false,
    "pycharm": {
     "name": "#%% md\n"
    }
   }
  },
  {
   "cell_type": "code",
   "execution_count": 30,
   "outputs": [],
   "source": [
    "test_x = test_x.to(torch.device('cuda'))\n",
    "predict = net(test_x)\n",
    "predict = predict.to(torch.device('cpu'))\n",
    "predict = predict.detach().numpy()\n",
    "\n",
    "sample_submission = pd.read_csv('california-house-prices/sample_submission.csv')\n",
    "sample_submission['Sold Price'] = pd.Series(predict.reshape(1, -1)[0])\n",
    "submission = pd.concat([sample_submission['Id'], sample_submission['Sold Price']], axis=1)\n",
    "submission.to_csv('california-house-prices/submission.csv', index=False)"
   ],
   "metadata": {
    "collapsed": false,
    "pycharm": {
     "name": "#%%\n"
    }
   }
  },
  {
   "cell_type": "code",
   "execution_count": null,
   "outputs": [],
   "source": [],
   "metadata": {
    "collapsed": false,
    "pycharm": {
     "name": "#%%\n"
    }
   }
  }
 ],
 "metadata": {
  "kernelspec": {
   "display_name": "Python 3 (ipykernel)",
   "language": "python",
   "name": "python3"
  },
  "language_info": {
   "codemirror_mode": {
    "name": "ipython",
    "version": 3
   },
   "file_extension": ".py",
   "mimetype": "text/x-python",
   "name": "python",
   "nbconvert_exporter": "python",
   "pygments_lexer": "ipython3",
   "version": "3.8.13"
  }
 },
 "nbformat": 4,
 "nbformat_minor": 1
}