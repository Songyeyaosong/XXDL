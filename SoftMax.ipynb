{
 "cells": [
  {
   "cell_type": "code",
   "execution_count": 1,
   "metadata": {
    "pycharm": {
     "name": "#%%\n"
    }
   },
   "outputs": [],
   "source": [
    "import torch\n",
    "import torchvision\n",
    "from torch.utils import data\n",
    "from torchvision import transforms\n",
    "from IPython import display\n",
    "from d2l import torch as d2l\n",
    "from d2l.torch import Accumulator\n",
    "\n",
    "d2l.use_svg_display()"
   ]
  },
  {
   "cell_type": "code",
   "execution_count": 2,
   "metadata": {
    "pycharm": {
     "name": "#%%\n"
    }
   },
   "outputs": [],
   "source": [
    "def get_dataloader_workers():\n",
    "    return 4"
   ]
  },
  {
   "cell_type": "code",
   "execution_count": 3,
   "metadata": {
    "pycharm": {
     "name": "#%%\n"
    }
   },
   "outputs": [],
   "source": [
    "def load_data_fashion_mnist(batch_size, resize = None):\n",
    "    trans = [transforms.ToTensor()]\n",
    "    if resize:\n",
    "        trans.insert(0, transforms.Resize(resize))\n",
    "    trans = transforms.Compose(trans)\n",
    "\n",
    "    mnist_train = torchvision.datasets.FashionMNIST(root = './data', train = True, transform = trans, download = True)\n",
    "    mnist_test = torchvision.datasets.FashionMNIST(root = './data', train = False, transform = trans, download = True)\n",
    "\n",
    "    return (\n",
    "        data.DataLoader(mnist_train, batch_size = batch_size, shuffle = True, num_workers = get_dataloader_workers()),\n",
    "        data.DataLoader(mnist_test, batch_size = batch_size, shuffle = True, num_workers = get_dataloader_workers())\n",
    "    )"
   ]
  },
  {
   "cell_type": "code",
   "execution_count": 4,
   "metadata": {
    "pycharm": {
     "name": "#%%\n"
    }
   },
   "outputs": [],
   "source": [
    "batch_size = 256\n",
    "train_iter, test_iter = load_data_fashion_mnist(batch_size)"
   ]
  },
  {
   "cell_type": "code",
   "execution_count": 5,
   "metadata": {
    "pycharm": {
     "name": "#%%\n"
    }
   },
   "outputs": [],
   "source": [
    "num_inputs = 784\n",
    "num_outputs = 10"
   ]
  },
  {
   "cell_type": "code",
   "execution_count": 6,
   "metadata": {
    "pycharm": {
     "name": "#%%\n"
    }
   },
   "outputs": [],
   "source": [
    "w = torch.normal(0, 0.01, size = (num_inputs, num_outputs), requires_grad = True)\n",
    "b = torch.zeros(size = (1, num_outputs), requires_grad = True)"
   ]
  },
  {
   "cell_type": "code",
   "execution_count": 7,
   "metadata": {
    "pycharm": {
     "name": "#%%\n"
    }
   },
   "outputs": [],
   "source": [
    "def softmax(x):\n",
    "    x_exp = torch.exp(x)\n",
    "    partition = x_exp.sum(dim = 1, keepdim = True) #keepdim是为了广播机制\n",
    "    return x_exp / partition #这里利用了广播机制"
   ]
  },
  {
   "cell_type": "code",
   "execution_count": 8,
   "metadata": {
    "pycharm": {
     "name": "#%%\n"
    }
   },
   "outputs": [],
   "source": [
    "def net(x):\n",
    "    z = torch.mm(x.reshape(-1, w.shape[0]), w) + b\n",
    "    #-1表示架构帮你计算,实际上这边是批量大小,x实际是一个3维矩阵,每层代表一张图,reshape将x变成一个每行是一张图的矩阵,行数就是批量大小了\n",
    "    return softmax(z)"
   ]
  },
  {
   "cell_type": "code",
   "execution_count": 9,
   "metadata": {
    "pycharm": {
     "name": "#%%\n"
    }
   },
   "outputs": [],
   "source": [
    "def cross_entropy(y_hat, y):\n",
    "    return -torch.log(y_hat[range(0, len(y_hat)), y])\n",
    "    #这边log里的y_hat可以这么理解：y_hat是一个矩阵,相当于一个二维数组,里面的参数就是2个\n",
    "    #两个参数分别代表行列,由于每一行为一个样本,里面是每个标签的概率,而y又代表正确的标签,因此可以表示为正确类别上的所有样本的概率\n",
    "    #举个例子,两个参数分别为[0, 1] [0, 2]那就相当于取了y_hat[0, 0] y_hat[1, 2]两个参数之间一一对应,然后组成一个向量\n",
    "    #这里就相当于在所有行上取正确类别的标签"
   ]
  },
  {
   "cell_type": "code",
   "execution_count": 10,
   "metadata": {
    "pycharm": {
     "name": "#%%\n"
    }
   },
   "outputs": [],
   "source": [
    "def accuracy(y_hat, y):\n",
    "    if len(y_hat.shape) > 1 and y_hat.shape[1] > 1: #shape[1]也可以写成size(1)\n",
    "        y_hat = y_hat.argmax(axis = 1) #argmax函数代表数组中的最大值所在的索引,也即数组下标,axis表示维度(0表示行与行之间比较,1表示列与列之间比较)\n",
    "\n",
    "    cmp = y_hat.type(y.dtype) == y #因为是向量之间的比较所以cmp也是向量,将y_hat的类型转化为y的类型是因为可能类型不一样(跟向量计算需要reshape一样,因为pytorch不区分行向量和列向量)\n",
    "    return float(cmp.type(y.dtype).sum()) #转换成y的type也是为了方便计算,sum是因为向量无法直接转化为float,需要求和,而且本身也本来就需要求和,因为需要返回正确的个数\n",
    "\n",
    "# accracy(y_hat, y) / len(y) 计算正确率"
   ]
  },
  {
   "cell_type": "code",
   "execution_count": 11,
   "metadata": {
    "pycharm": {
     "name": "#%%\n"
    }
   },
   "outputs": [],
   "source": [
    "def evaluate_accuracy(net, data_iter):\n",
    "    if isinstance(net, torch.nn.Module):\n",
    "        net.eval()\n",
    "    metric = Accumulator(2) #Accumulator累加器\n",
    "    for x, y in data_iter:\n",
    "        metric.add(accuracy(net(x), y), y.numel()) #两个分别是正确个数和总样本数\n",
    "        return metric[0] / metric[1] #用正确个数除以总样本数就得到了正确率"
   ]
  },
  {
   "cell_type": "code",
   "execution_count": 12,
   "metadata": {
    "pycharm": {
     "name": "#%%\n"
    }
   },
   "outputs": [
    {
     "data": {
      "text/plain": [
       "0.0546875"
      ]
     },
     "execution_count": 12,
     "metadata": {},
     "output_type": "execute_result"
    }
   ],
   "source": [
    "evaluate_accuracy(net, test_iter)"
   ]
  },
  {
   "cell_type": "code",
   "execution_count": 13,
   "metadata": {
    "pycharm": {
     "name": "#%%\n"
    }
   },
   "outputs": [],
   "source": [
    "lr = 0.1\n",
    "\n",
    "def updater(batch_size):\n",
    "    return d2l.sgd([w, b], lr, batch_size)"
   ]
  },
  {
   "cell_type": "code",
   "execution_count": null,
   "metadata": {
    "pycharm": {
     "name": "#%%\n"
    }
   },
   "outputs": [],
   "source": [
    "epochs = 10\n",
    "\n",
    "d2l.train_ch3(net, train_iter, test_iter, cross_entropy, epochs, updater)"
   ]
  },
  {
   "cell_type": "code",
   "execution_count": null,
   "metadata": {
    "pycharm": {
     "name": "#%%\n"
    }
   },
   "outputs": [],
   "source": [
    "d2l.predict_ch3(net, test_iter)"
   ]
  },
  {
   "cell_type": "code",
   "execution_count": null,
   "metadata": {
    "pycharm": {
     "name": "#%%\n"
    }
   },
   "outputs": [],
   "source": []
  }
 ],
 "metadata": {
  "kernelspec": {
   "display_name": "Python 3 (ipykernel)",
   "language": "python",
   "name": "python3"
  },
  "language_info": {
   "codemirror_mode": {
    "name": "ipython",
    "version": 3
   },
   "file_extension": ".py",
   "mimetype": "text/x-python",
   "name": "python",
   "nbconvert_exporter": "python",
   "pygments_lexer": "ipython3",
   "version": "3.8.13"
  }
 },
 "nbformat": 4,
 "nbformat_minor": 1
}
