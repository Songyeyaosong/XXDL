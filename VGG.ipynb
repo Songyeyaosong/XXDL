{
 "cells": [
  {
   "cell_type": "code",
   "execution_count": 1,
   "metadata": {
    "pycharm": {
     "name": "#%%\n"
    }
   },
   "outputs": [],
   "source": [
    "import torch\n",
    "from torch import nn\n",
    "from d2l import torch as d2l\n",
    "import torchvision\n",
    "from torch.utils.data import DataLoader\n",
    "from torchvision import transforms\n",
    "from torch.utils.data import Dataset\n",
    "import matplotlib.pyplot as plt"
   ]
  },
  {
   "cell_type": "code",
   "execution_count": 2,
   "metadata": {
    "pycharm": {
     "name": "#%%\n"
    }
   },
   "outputs": [],
   "source": [
    "class MyDataset(Dataset):\n",
    "\n",
    "    def __init__(self, dataset):\n",
    "        super(MyDataset, self).__init__()\n",
    "        self.dataset = dataset\n",
    "\n",
    "    def __getitem__(self, idx):\n",
    "        return self.dataset.data[idx].reshape(-1, 1, 28, 28), self.dataset.targets[idx]\n",
    "\n",
    "    def __len__(self):\n",
    "        return len(self.dataset)"
   ]
  },
  {
   "cell_type": "markdown",
   "metadata": {
    "pycharm": {
     "name": "#%% md\n"
    }
   },
   "source": [
    "网络"
   ]
  },
  {
   "cell_type": "code",
   "execution_count": 3,
   "metadata": {
    "pycharm": {
     "name": "#%%\n"
    }
   },
   "outputs": [],
   "source": [
    "def vgg_block(in_channels, out_channels, num_convs):\n",
    "\n",
    "    layers = [nn.Conv2d(in_channels, out_channels, kernel_size=3, padding=1), nn.ReLU()]\n",
    "\n",
    "    for _ in range(num_convs - 1):\n",
    "        layers.append(nn.Conv2d(out_channels, out_channels, kernel_size = 3, padding = 1))\n",
    "        layers.append(nn.ReLU())\n",
    "\n",
    "    layers.append(nn.MaxPool2d(kernel_size = 2, stride = 2))\n",
    "\n",
    "    return nn.Sequential(*layers) # *layers 加个*是解包,将list中的数据依次拿出来"
   ]
  },
  {
   "cell_type": "code",
   "execution_count": 4,
   "metadata": {
    "pycharm": {
     "name": "#%%\n"
    }
   },
   "outputs": [],
   "source": [
    "def try_gpu():\n",
    "    if torch.cuda.is_available():\n",
    "        return torch.device('cuda')\n",
    "    else:\n",
    "        return torch.device('cpu')"
   ]
  },
  {
   "cell_type": "code",
   "execution_count": 5,
   "metadata": {
    "pycharm": {
     "name": "#%%\n"
    }
   },
   "outputs": [],
   "source": [
    "vgg_size = [(1, 4, 1), (4, 8, 2)]\n",
    "\n",
    "def vgg(p1 = 0.0, p2 = 0.0):\n",
    "\n",
    "    vgg_blocks = []\n",
    "\n",
    "    for in_channels, out_channels, num_convs in vgg_size:\n",
    "        vgg_blocks.append(vgg_block(in_channels, out_channels, num_convs))\n",
    "\n",
    "    net = nn.Sequential(\n",
    "        *vgg_blocks, nn.Flatten(),\n",
    "        nn.Linear(out_channels * 7 * 7, 128), nn.ReLU(), nn.Dropout(p1),\n",
    "        nn.Linear(128, 128), nn.ReLU(), nn.Dropout(p2),\n",
    "        nn.Linear(128, 10)\n",
    "    )\n",
    "\n",
    "    return net"
   ]
  },
  {
   "cell_type": "code",
   "execution_count": 6,
   "metadata": {
    "pycharm": {
     "name": "#%%\n"
    }
   },
   "outputs": [],
   "source": [
    "def get_net(p1 = 0.0, p2 = 0.0):\n",
    "    return vgg(p1, p2)"
   ]
  },
  {
   "cell_type": "code",
   "execution_count": 7,
   "metadata": {
    "pycharm": {
     "name": "#%%\n"
    }
   },
   "outputs": [],
   "source": [
    "def init_parms(m):\n",
    "    if type(m) == nn.Linear or type(m) == nn.Conv2d:\n",
    "        nn.init.xavier_uniform_(m.weight)\n",
    "        nn.init.zeros_(m.bias)"
   ]
  },
  {
   "cell_type": "markdown",
   "metadata": {
    "pycharm": {
     "name": "#%% md\n"
    }
   },
   "source": [
    "数据"
   ]
  },
  {
   "cell_type": "code",
   "execution_count": 8,
   "metadata": {
    "pycharm": {
     "name": "#%%\n"
    }
   },
   "outputs": [],
   "source": [
    "image_to_tensor = transforms.ToTensor()"
   ]
  },
  {
   "cell_type": "code",
   "execution_count": 9,
   "metadata": {
    "pycharm": {
     "name": "#%%\n"
    }
   },
   "outputs": [],
   "source": [
    "train_dataset = torchvision.datasets.FashionMNIST('data', train = True, transform = image_to_tensor, download = True)\n",
    "test_dataset = torchvision.datasets.FashionMNIST('data', train = False, transform = image_to_tensor, download = True)"
   ]
  },
  {
   "cell_type": "markdown",
   "metadata": {
    "pycharm": {
     "name": "#%% md\n"
    }
   },
   "source": [
    "训练及测试"
   ]
  },
  {
   "cell_type": "code",
   "execution_count": 10,
   "metadata": {
    "pycharm": {
     "name": "#%%\n"
    }
   },
   "outputs": [],
   "source": [
    "def num_accuracy(y_hat, y):\n",
    "\n",
    "    predict = torch.argmax(y_hat, dim = 1)\n",
    "    count = (predict == y).float().sum().item()\n",
    "\n",
    "    return count"
   ]
  },
  {
   "cell_type": "code",
   "execution_count": 11,
   "metadata": {
    "pycharm": {
     "name": "#%%\n"
    }
   },
   "outputs": [],
   "source": [
    "def train(net, train_iter, test_iter, lr, num_epochs, is_cross_validate):\n",
    "\n",
    "    loss = nn.CrossEntropyLoss()\n",
    "    updater = torch.optim.SGD(net.parameters(), lr = lr)\n",
    "\n",
    "    if not is_cross_validate:\n",
    "        epoch_train_loss_list = []\n",
    "        epoch_train_acc_list = []\n",
    "        epoch_test_acc_list = []\n",
    "        epoch_list = []\n",
    "\n",
    "    for epoch in range(num_epochs):\n",
    "\n",
    "        train_loss_metric = d2l.Accumulator(2)\n",
    "        train_acc_metric = d2l.Accumulator(2)\n",
    "        test_acc_metric = d2l.Accumulator(2)\n",
    "\n",
    "        for x, y in train_iter:\n",
    "\n",
    "            net.train()\n",
    "\n",
    "            x = x.to(try_gpu())\n",
    "            y = y.to(try_gpu())\n",
    "\n",
    "            updater.zero_grad()\n",
    "            y_hat = net(x)\n",
    "            l = loss(y_hat, y)\n",
    "            l.sum().backward()\n",
    "            updater.step()\n",
    "\n",
    "            with torch.no_grad():\n",
    "                train_loss_metric.add(l, l.numel())\n",
    "                train_acc_metric.add(num_accuracy(y_hat, y), y.numel())\n",
    "\n",
    "        epoch_train_loss = train_loss_metric[0] / train_loss_metric[1]\n",
    "        epoch_train_acc = train_acc_metric[0] / train_acc_metric[1]\n",
    "\n",
    "        for x, y in test_iter:\n",
    "\n",
    "            net.eval()\n",
    "\n",
    "            x = x.to(try_gpu())\n",
    "            y = y.to(try_gpu())\n",
    "\n",
    "            with torch.no_grad():\n",
    "                y_hat = net(x)\n",
    "\n",
    "                test_acc_metric.add(num_accuracy(y_hat, y), y.numel())\n",
    "\n",
    "        epoch_test_acc = test_acc_metric[0] / test_acc_metric[1]\n",
    "\n",
    "        if not is_cross_validate:\n",
    "            epoch_train_loss_list.append(epoch_train_loss)\n",
    "            epoch_train_acc_list.append(epoch_train_acc)\n",
    "            epoch_test_acc_list.append(epoch_test_acc)\n",
    "            epoch_list.append(epoch + 1)\n",
    "\n",
    "    if not is_cross_validate:\n",
    "        plt.plot(epoch_list, epoch_train_loss_list, label = 'train_loss')\n",
    "        plt.plot(epoch_list, epoch_train_acc_list, label = 'train_acc')\n",
    "        plt.plot(epoch_list, epoch_test_acc_list, label = 'test_acc')\n",
    "        plt.legend()\n",
    "        plt.show()\n",
    "\n",
    "    return epoch_train_loss, epoch_train_acc, epoch_test_acc\n"
   ]
  },
  {
   "cell_type": "code",
   "execution_count": 12,
   "metadata": {
    "pycharm": {
     "name": "#%%\n"
    }
   },
   "outputs": [],
   "source": [
    "batch_size = 128\n",
    "\n",
    "train_iter = DataLoader(train_dataset, batch_size = batch_size, shuffle = True)\n",
    "test_iter = DataLoader(test_dataset, batch_size = batch_size)"
   ]
  },
  {
   "cell_type": "code",
   "execution_count": 13,
   "metadata": {
    "pycharm": {
     "name": "#%%\n"
    }
   },
   "outputs": [],
   "source": [
    "lr, num_epochs = 0.05, 10"
   ]
  },
  {
   "cell_type": "code",
   "execution_count": 14,
   "metadata": {
    "pycharm": {
     "name": "#%%\n"
    }
   },
   "outputs": [],
   "source": [
    "def get_k_fold_data(k, i, train_data):\n",
    "\n",
    "    assert k > 1\n",
    "\n",
    "    fold_size = len(train_data) // k\n",
    "\n",
    "    my_data = MyDataset(train_data)\n",
    "    cross_train_x, cross_train_y = None, None\n",
    "    cross_validate_x, cross_validate_y = None, None\n",
    "\n",
    "    for j in range(k):\n",
    "\n",
    "        idx = slice(j * fold_size, (j + 1) * fold_size)\n",
    "        x_part, y_part = my_data[idx]\n",
    "        if j == i:\n",
    "            cross_validate_x, cross_validate_y = x_part, y_part\n",
    "        elif cross_train_x is None:\n",
    "            cross_train_x, cross_train_y = x_part, y_part\n",
    "        else:\n",
    "            cross_train_x = torch.cat([cross_train_x, x_part], dim = 0)\n",
    "            cross_train_y = torch.cat([cross_train_y, y_part], dim = 0)\n",
    "\n",
    "    cross_train_x = torch.as_tensor(cross_train_x, dtype = torch.float32)\n",
    "    cross_validate_x = torch.as_tensor(cross_validate_x, dtype = torch.float32)\n",
    "    \n",
    "    cross_train_x = (cross_train_x - torch.mean(cross_train_x)) / torch.std(cross_train_x)\n",
    "    cross_validate_x = (cross_validate_x - torch.mean(cross_validate_x)) / torch.std(cross_validate_x)\n",
    "\n",
    "    return cross_train_x, cross_train_y, cross_validate_x, cross_validate_y"
   ]
  },
  {
   "cell_type": "code",
   "execution_count": 15,
   "metadata": {
    "pycharm": {
     "name": "#%%\n"
    }
   },
   "outputs": [],
   "source": [
    "def k_fold_cross_validate(net, k, train_dataset):\n",
    "\n",
    "    cross_train_loss, cross_train_acc, cross_validate_acc = 0.0, 0.0, 0.0\n",
    "\n",
    "    for i in range(k):\n",
    "\n",
    "        cross_train_x, cross_train_y, cross_validate_x, cross_validate_y = get_k_fold_data(k, i, train_dataset)\n",
    "\n",
    "        cross_train_iter = d2l.load_array((cross_train_x, cross_train_y), batch_size = batch_size, is_train = True)\n",
    "        cross_validate_iter = d2l.load_array((cross_validate_x, cross_validate_y), batch_size = batch_size)\n",
    "        \n",
    "        net.apply(init_parms)\n",
    "\n",
    "        part_train_loss, part_train_acc, part_validate_acc = train(net, cross_train_iter, cross_validate_iter, lr, num_epochs,is_cross_validate = True)\n",
    "\n",
    "        cross_train_loss += part_train_loss\n",
    "        cross_train_acc += part_train_acc\n",
    "        cross_validate_acc += part_validate_acc\n",
    "\n",
    "    train_loss = cross_train_loss / k\n",
    "    train_acc = cross_train_acc / k\n",
    "    validate_acc = cross_validate_acc / k\n",
    "\n",
    "    return train_loss, train_acc, validate_acc"
   ]
  },
  {
   "cell_type": "code",
   "execution_count": 16,
   "metadata": {
    "pycharm": {
     "name": "#%%\n"
    }
   },
   "outputs": [],
   "source": [
    "ps = [0.1, 0.5, 0.9]\n",
    "p_1, p_2 = 0.0, 0.0\n",
    "max_validate_acc = 0.0\n",
    "\n",
    "for p1 in ps:\n",
    "    for p2 in ps:\n",
    "\n",
    "        net = get_net(p1, p2)\n",
    "        net.to(try_gpu())\n",
    "\n",
    "        train_loss, train_acc, validate_acc = k_fold_cross_validate(net, 5, train_dataset)\n",
    "        print('p1:',p1,'p2:',p2)\n",
    "        print('train_acc:',train_acc)\n",
    "        print('validate_acc:',validate_acc)\n",
    "\n",
    "        if validate_acc > max_validate_acc:\n",
    "            p_1 = p1\n",
    "            p_2 = p2\n",
    "            max_validate_acc = validate_acc"
   ]
  },
  {
   "cell_type": "code",
   "execution_count": 17,
   "metadata": {
    "pycharm": {
     "name": "#%%\n"
    }
   },
   "outputs": [
    {
     "data": {
      "image/png": "[encoded data removed]",
      "text/plain": [
       "<Figure size 432x288 with 1 Axes>"
      ]
     },
     "metadata": {
      "needs_background": "light"
     },
     "output_type": "display_data"
    },
    {
     "name": "stdout",
     "output_type": "stream",
     "text": [
      "p1: 0.0 p2: 0.0\n",
      "train_loss: 0.26678333464843124\n",
      "train_acc: 0.9007666666666667\n",
      "test_acc: 0.8877\n"
     ]
    }
   ],
   "source": [
    "net = get_net(p_1, p_2)\n",
    "net.apply(init_parms)\n",
    "net.to(try_gpu())\n",
    "\n",
    "train_loss, train_acc, test_acc = train(net, train_iter, test_iter, lr = lr, num_epochs = num_epochs, is_cross_validate = False)\n",
    "print('p1:', p_1, 'p2:', p_2)\n",
    "print('train_loss:', train_loss)\n",
    "print('train_acc:', train_acc)\n",
    "print('test_acc:', test_acc)"
   ]
  },
  {
   "cell_type": "code",
   "execution_count": null,
   "metadata": {},
   "outputs": [],
   "source": []
  }
 ],
 "metadata": {
  "kernelspec": {
   "display_name": "Python 3 (ipykernel)",
   "language": "python",
   "name": "python3"
  },
  "language_info": {
   "codemirror_mode": {
    "name": "ipython",
    "version": 3
   },
   "file_extension": ".py",
   "mimetype": "text/x-python",
   "name": "python",
   "nbconvert_exporter": "python",
   "pygments_lexer": "ipython3",
   "version": "3.8.13"
  }
 },
 "nbformat": 4,
 "nbformat_minor": 1
}