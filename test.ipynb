{
 "cells": [
  {
   "cell_type": "code",
   "execution_count": 1,
   "outputs": [],
   "source": [
    "import torch\n",
    "import pandas as pd\n",
    "import matplotlib.pyplot as plt"
   ],
   "metadata": {
    "collapsed": false,
    "pycharm": {
     "name": "#%%\n"
    }
   }
  },
  {
   "cell_type": "code",
   "execution_count": 2,
   "outputs": [],
   "source": [
    "data_file = pd.read_csv(\"data.txt\", header = None)\n",
    "tensor_data = torch.tensor(data_file.values, dtype = torch.float64)\n",
    "x = tensor_data[:,[0,1]]\n",
    "y = tensor_data[:,2]"
   ],
   "metadata": {
    "collapsed": false,
    "pycharm": {
     "name": "#%%\n"
    }
   }
  },
  {
   "cell_type": "code",
   "execution_count": 3,
   "outputs": [],
   "source": [
    "def perceptron(x):\n",
    "    if x > 0:\n",
    "        return 1\n",
    "    else:\n",
    "        return -1"
   ],
   "metadata": {
    "collapsed": false,
    "pycharm": {
     "name": "#%%\n"
    }
   }
  },
  {
   "cell_type": "code",
   "execution_count": 4,
   "outputs": [],
   "source": [
    "w = torch.zeros(size = (x.shape[1], 1), dtype = torch.float64)\n",
    "b = torch.zeros(size = (1, 1), dtype = torch.float64)"
   ],
   "metadata": {
    "collapsed": false,
    "pycharm": {
     "name": "#%%\n"
    }
   }
  },
  {
   "cell_type": "code",
   "execution_count": 5,
   "outputs": [],
   "source": [
    "while True:\n",
    "    flag = False\n",
    "    for i in range(x.shape[0]):\n",
    "        if y[i] * (torch.matmul(x[i], w) + b) <= 0:\n",
    "            w = w + y[i] * x[i].reshape(w.shape)\n",
    "            b = b + y[i]\n",
    "            flag = True\n",
    "    if not flag:\n",
    "        break"
   ],
   "metadata": {
    "collapsed": false,
    "pycharm": {
     "name": "#%%\n"
    }
   }
  },
  {
   "cell_type": "code",
   "execution_count": 6,
   "outputs": [
    {
     "data": {
      "text/plain": "[<matplotlib.lines.Line2D at 0x22f5305dbe0>]"
     },
     "execution_count": 6,
     "metadata": {},
     "output_type": "execute_result"
    },
    {
     "data": {
      "text/plain": "<Figure size 432x288 with 1 Axes>",
      "image/png": "[encoded data removed]"
     },
     "metadata": {
      "needs_background": "light"
     },
     "output_type": "display_data"
    }
   ],
   "source": [
    "x0 = x[:,0]\n",
    "x1 = torch.empty(x0.size(0))\n",
    "for i in range(0, x0.size(0)):\n",
    "    x1[i] = (-b - w[0] * x0[i]) / w[1]\n",
    "for i in range(0, tensor_data.size(0)):\n",
    "    if tensor_data[i, 2] == -1:\n",
    "        plt.plot(tensor_data[i,0], tensor_data[i,1], 'o', color = 'green')\n",
    "    else:\n",
    "        plt.plot(tensor_data[i,0], tensor_data[i,1], '*', color = 'red')\n",
    "plt.plot(x0, x1)"
   ],
   "metadata": {
    "collapsed": false,
    "pycharm": {
     "name": "#%%\n"
    }
   }
  },
  {
   "cell_type": "code",
   "execution_count": 6,
   "outputs": [],
   "source": [],
   "metadata": {
    "collapsed": false,
    "pycharm": {
     "name": "#%%\n"
    }
   }
  }
 ],
 "metadata": {
  "kernelspec": {
   "display_name": "Python 3",
   "language": "python",
   "name": "python3"
  },
  "language_info": {
   "codemirror_mode": {
    "name": "ipython",
    "version": 2
   },
   "file_extension": ".py",
   "mimetype": "text/x-python",
   "name": "python",
   "nbconvert_exporter": "python",
   "pygments_lexer": "ipython2",
   "version": "2.7.6"
  }
 },
 "nbformat": 4,
 "nbformat_minor": 0
}